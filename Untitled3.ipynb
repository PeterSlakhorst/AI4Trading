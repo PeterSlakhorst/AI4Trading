{
  "nbformat": 4,
  "nbformat_minor": 0,
  "metadata": {
    "colab": {
      "name": "Untitled3.ipynb",
      "provenance": [],
      "authorship_tag": "ABX9TyO8wvDxLVSzY94xeKJf4Cdi",
      "include_colab_link": true
    },
    "kernelspec": {
      "name": "python3",
      "display_name": "Python 3"
    },
    "language_info": {
      "name": "python"
    }
  },
  "cells": [
    {
      "cell_type": "markdown",
      "metadata": {
        "id": "view-in-github",
        "colab_type": "text"
      },
      "source": [
        "<a href=\"https://colab.research.google.com/github/PeterSlakhorst/AI4Trading/blob/master/Untitled3.ipynb\" target=\"_parent\"><img src=\"https://colab.research.google.com/assets/colab-badge.svg\" alt=\"Open In Colab\"/></a>"
      ]
    },
    {
      "cell_type": "code",
      "metadata": {
        "colab": {
          "base_uri": "https://localhost:8080/"
        },
        "id": "7edozXJNDPxg",
        "outputId": "92409d3f-7bcf-4dfa-9fdf-d66f1ebf389e"
      },
      "source": [
        "! git clone https://github.com/AI4Finance-Foundation/FinRL.git"
      ],
      "execution_count": 1,
      "outputs": [
        {
          "output_type": "stream",
          "name": "stdout",
          "text": [
            "Cloning into 'FinRL'...\n",
            "remote: Enumerating objects: 3997, done.\u001b[K\n",
            "remote: Counting objects: 100% (236/236), done.\u001b[K\n",
            "remote: Compressing objects: 100% (166/166), done.\u001b[K\n",
            "remote: Total 3997 (delta 138), reused 112 (delta 70), pack-reused 3761\u001b[K\n",
            "Receiving objects: 100% (3997/3997), 46.46 MiB | 27.64 MiB/s, done.\n",
            "Resolving deltas: 100% (2389/2389), done.\n"
          ]
        }
      ]
    }
  ]
}